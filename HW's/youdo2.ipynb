{
 "cells": [
  {
   "cell_type": "code",
   "execution_count": 9,
   "outputs": [],
   "source": [
    "import numpy as np\n",
    "import pandas as pd\n"
   ],
   "metadata": {
    "collapsed": false,
    "pycharm": {
     "name": "#%%\n"
    }
   }
  },
  {
   "cell_type": "code",
   "execution_count": 10,
   "outputs": [],
   "source": [
    "from tqdm import trange\n",
    "\n",
    "\n",
    "class UserBased:\n",
    "    mu: np.ndarray\n",
    "    sim: np.ndarray\n",
    "\n",
    "    def __init__(self, zero_mean: bool = True, beta: int = 1, idf: bool = False, verbosity: int = 0):\n",
    "        \"\"\"\n",
    "\n",
    "        :param zero_mean:\n",
    "        :param beta: Discounting parameter\n",
    "        :param idf: Enable inverse document frequency management\n",
    "        \"\"\"\n",
    "        self.zero_mean = zero_mean\n",
    "        self.beta = beta\n",
    "        self.idf = idf\n",
    "        self.verbosity = verbosity\n",
    "\n",
    "    def fit(self, r: np.ndarray):\n",
    "        m, n = r.shape\n",
    "        if self.zero_mean:\n",
    "            self.mu = np.nanmean(r, axis=1)\n",
    "        else:\n",
    "            self.mu = np.zeros(m)\n",
    "\n",
    "        self.sim = np.zeros((m, m))\n",
    "\n",
    "        if self.idf:\n",
    "            idf = np.log(1 + m / (~np.isnan(r)).sum(axis=0))\n",
    "        else:\n",
    "            idf = np.ones(n)\n",
    "\n",
    "        if self.verbosity > 0:\n",
    "            print(idf)\n",
    "\n",
    "        for i in trange(m):\n",
    "            for j in range(m):\n",
    "                mask = ~np.isnan(r[i, :]) & ~np.isnan(r[j, :])\n",
    "\n",
    "                si = r[i, mask] - self.mu[i]\n",
    "                sj = r[j, mask] - self.mu[j]\n",
    "\n",
    "                self.sim[i][j] = (si * sj * idf[mask]).sum() / (\n",
    "                        np.sqrt((idf[mask] * (si ** 2)).sum()) * np.sqrt((idf[mask] * (sj ** 2)).sum()))\n",
    "\n",
    "                total_intersection = mask.sum()\n",
    "\n",
    "                self.sim[i][j] *= min(total_intersection, self.beta) / self.beta\n",
    "\n",
    "        return self.sim\n",
    "\n",
    "    def predict(self, r: np.array, u: int, top_k: int = 3) -> np.ndarray:\n",
    "        \"\"\"\n",
    "\n",
    "        :param r: Rating matrix\n",
    "        :param u: User u\n",
    "        :param top_k: Top k neighbourhood\n",
    "        :return: Calculated Rating of each item\n",
    "        \"\"\"\n",
    "\n",
    "        _, n = r.shape\n",
    "\n",
    "        score = np.zeros(n)\n",
    "\n",
    "        for j in trange(n):\n",
    "            score[j] = self.predict1(r, u, j, top_k)\n",
    "\n",
    "        return score\n",
    "\n",
    "    def predict1(self, r: np.array, u: int, j: int, top_k: int = 3) -> float:\n",
    "        _, n = r.shape\n",
    "\n",
    "        users_rated_j = np.nonzero(~np.isnan(r[:, j]))[0]\n",
    "\n",
    "        topk_users = users_rated_j[self.sim[u, users_rated_j].argsort()[::-1][:top_k]]\n",
    "\n",
    "        mean_centered_topk_user_rate = r[topk_users, j] - self.mu[topk_users]\n",
    "\n",
    "        w = self.sim[u, topk_users]\n",
    "\n",
    "        return np.dot(mean_centered_topk_user_rate, w) / np.abs(w).sum() + self.mu[u]\n",
    "\n"
   ],
   "metadata": {
    "collapsed": false,
    "pycharm": {
     "name": "#%%\n"
    }
   }
  },
  {
   "cell_type": "code",
   "execution_count": null,
   "outputs": [],
   "source": [
    "df = pd.read_csv('https://files.grouplens.org/datasets/movielens/ml-100k/u.data', delimiter=r'\\t', engine='python',\n",
    "                 names=['user_id', 'item_id', 'rating', 'timestamp'])\n",
    "r = df.pivot(index='user_id', columns='item_id', values='rating').values"
   ],
   "metadata": {
    "collapsed": false,
    "pycharm": {
     "name": "#%%\n"
    }
   }
  },
  {
   "cell_type": "code",
   "execution_count": 11,
   "outputs": [],
   "source": [
    "r = np.array([[7, 6, 7, 4, 5, 4],\n",
    "              [6, 7, np.nan, 4, 3, 4],\n",
    "              [np.nan, 3, 3, 1, 1, np.nan],\n",
    "              [1, 2, 3, 3, 3, 4],\n",
    "              [1, np.nan, 1, 2, 3, 3]])"
   ],
   "metadata": {
    "collapsed": false,
    "pycharm": {
     "name": "#%%\n"
    }
   }
  },
  {
   "cell_type": "code",
   "execution_count": 12,
   "outputs": [],
   "source": [
    "irow, jcol = np.where(~np.isnan(r))\n",
    "idx = np.random.choice(np.arange(3), 3, replace=False)\n",
    "test_irow = irow[idx]\n",
    "test_jcol = jcol[idx]"
   ],
   "metadata": {
    "collapsed": false,
    "pycharm": {
     "name": "#%%\n"
    }
   }
  },
  {
   "cell_type": "code",
   "execution_count": 23,
   "outputs": [
    {
     "name": "stdout",
     "output_type": "stream",
     "text": [
      "[[nan nan nan  4.  5.  4.]\n",
      " [ 6.  7. nan  4.  3.  4.]\n",
      " [nan  3.  3.  1.  1. nan]\n",
      " [ 1.  2.  3.  3.  3.  4.]\n",
      " [ 1. nan  1.  2.  3.  3.]]\n"
     ]
    }
   ],
   "source": [],
   "metadata": {
    "collapsed": false,
    "pycharm": {
     "name": "#%%\n"
    }
   }
  },
  {
   "cell_type": "code",
   "execution_count": 13,
   "outputs": [],
   "source": [
    "r_copy = r.copy()\n",
    "for i in test_irow:\n",
    "    for j in test_jcol:\n",
    "        r_copy[i][j] = np.nan\n",
    "\n",
    "\n"
   ],
   "metadata": {
    "collapsed": false,
    "pycharm": {
     "name": "#%%\n"
    }
   }
  },
  {
   "cell_type": "code",
   "execution_count": 20,
   "outputs": [
    {
     "name": "stdout",
     "output_type": "stream",
     "text": [
      "[[0 3]\n",
      " [0 4]\n",
      " [0 5]\n",
      " [1 0]\n",
      " [1 1]\n",
      " [1 3]\n",
      " [1 4]\n",
      " [1 5]\n",
      " [2 1]\n",
      " [2 2]\n",
      " [2 3]\n",
      " [2 4]\n",
      " [3 0]\n",
      " [3 1]\n",
      " [3 2]\n",
      " [3 3]\n",
      " [3 4]\n",
      " [3 5]\n",
      " [4 0]\n",
      " [4 2]\n",
      " [4 3]\n",
      " [4 4]\n",
      " [4 5]]\n",
      "[0 0 0 1 1 1 1 1 2 2 2 2 3 3 3 3 3 3 4 4 4 4 4]\n"
     ]
    }
   ],
   "source": [
    "r_not_nan = np.argwhere(~np.isnan(r_copy))\n",
    "print(r_not_nan)\n",
    "print(r_not_nan[:,0])\n",
    "def get_users_rated_item(r_not_nan, item):\n",
    "    return r_not_nan[r_not_nan[:,0] == item][:, 1]\n"
   ],
   "metadata": {
    "collapsed": false,
    "pycharm": {
     "name": "#%%\n"
    }
   }
  },
  {
   "cell_type": "code",
   "execution_count": 15,
   "outputs": [
    {
     "name": "stderr",
     "output_type": "stream",
     "text": [
      "100%|██████████████████████████████████████████████████████████████████████████████████| 5/5 [00:00<00:00, 1245.27it/s]\n"
     ]
    }
   ],
   "source": [
    "user = UserBased()\n",
    "sim = user.fit(r_copy)\n"
   ],
   "metadata": {
    "collapsed": false,
    "pycharm": {
     "name": "#%%\n"
    }
   }
  },
  {
   "cell_type": "code",
   "execution_count": 23,
   "outputs": [
    {
     "name": "stdout",
     "output_type": "stream",
     "text": [
      "(5, 5)\n"
     ]
    }
   ],
   "source": [
    "r_not_nan = np.argwhere(~np.isnan(r_copy))\n",
    "\n",
    "def get_users_rated_item(r_not_nan, item):\n",
    "    users = []\n",
    "    for i in r_not_nan:\n",
    "        if i[1] == item:\n",
    "            users.append(i[0])\n",
    "    return users\n",
    "\n",
    "def get_items_rated_by_user(r_not_nan, user):\n",
    "    items = []\n",
    "    for i in r_not_nan:\n",
    "        if i[0] == user:\n",
    "            items.append(i[1])\n",
    "    return items\n",
    "\n",
    "\n",
    "print(sim.shape)\n",
    "def get_topk_users(users_rated_item, u, k):\n",
    "    topk = {}\n",
    "    for i in users_rated_item:\n",
    "        topk[i] = sim[i][u]\n",
    "    topk = dict(sorted(topk.items(), key=lambda item: item[1]))\n",
    "    topk.popitem()\n",
    "\n",
    "    return list(reversed(list(topk)))[:k]\n",
    "# item = 5\n",
    "# user = 2\n",
    "# k = 3\n",
    "# top_k_users = get_topk_users(get_users_rated_item(r_not_nan, item), user, k)\n",
    "# top_k_users\n"
   ],
   "metadata": {
    "collapsed": false,
    "pycharm": {
     "name": "#%%\n"
    }
   }
  },
  {
   "cell_type": "code",
   "execution_count": null,
   "outputs": [],
   "source": [
    "users = get_users_rated_item(r_not_nan, 3)\n",
    "\n",
    "get_topk_users(users, 1, 2)"
   ],
   "metadata": {
    "collapsed": false,
    "pycharm": {
     "name": "#%%\n"
    }
   }
  },
  {
   "cell_type": "code",
   "execution_count": 120,
   "outputs": [],
   "source": [
    "# mu = np.nanmean(r_copy, axis=1)\n",
    "#\n",
    "# m, n = r_copy.shape\n",
    "# r_pred = np.empty([m, n])\n",
    "# r_pred[:] = np.nan\n",
    "# k = 2\n",
    "# w = np.random.random(k).T\n",
    "# alpha = 0.001\n",
    "#\n",
    "#\n",
    "# for iteration in range(100):\n",
    "#     for idx in r_not_nan:\n",
    "#         u = idx[0]\n",
    "#         i = idx[1]\n",
    "#         top_k_users = get_topk_users(users_rated_item=get_users_rated_item(r_not_nan, i), u=u, k=k)\n",
    "#         r_pred[u, i]= np.dot(w, (r_copy[top_k_users, i] - mu[top_k_users])).sum() + mu[u]\n",
    "#     print(np.power((r_copy- r_pred), 2))\n",
    "#     g_wu = -2 * (r_copy[u, i] - r_pred[u, i]) * (r_copy[i , j] - mu[u])\n",
    "#     w += alpha * g_wu\n",
    "\n",
    "def predict_user(r, u, k, alpha):\n",
    "\n",
    "    r_not_nan = np.argwhere(~np.isnan(r))\n",
    "    mu = np.nanmean(r, axis=1)\n",
    "    items = get_items_rated_by_user(r_not_nan, u)\n",
    "    w = np.random.random(k).T\n",
    "    r_pred = np.empty(n)\n",
    "    r_pred[:] = np.nan\n",
    "\n",
    "    for iteration in range(100):\n",
    "        diff = np.empty(r_copy.shape[1])\n",
    "        for j in items:\n",
    "            top_k_users = get_topk_users(users_rated_item=get_users_rated_item(r_not_nan, j), u=u, k=k)\n",
    "            r_pred[j] = mu[u] + np.dot(w, (r[top_k_users, j]) - mu[u]).sum()\n",
    "            np.append(diff, (r[u] - r_pred) * (r[u, j] - mu[u]))\n",
    "\n",
    "        g_wu = -2 * diff.sum()\n",
    "        print(g_wu)\n",
    "        w = w - (g_wu * alpha)\n",
    "\n",
    "    for j in items:\n",
    "            top_k_users = get_topk_users(users_rated_item=get_users_rated_item(r_not_nan, j), u=u, k=k)\n",
    "            r_pred[j] = mu[u] + np.dot(w, (r[top_k_users, j]) - mu[u]).sum()\n",
    "    return r_pred\n"
   ],
   "metadata": {
    "collapsed": false,
    "pycharm": {
     "name": "#%%\n"
    }
   }
  },
  {
   "cell_type": "code",
   "execution_count": 119,
   "outputs": [
    {
     "name": "stdout",
     "output_type": "stream",
     "text": [
      "[nan nan nan nan nan nan]\n",
      "[nan nan nan nan nan nan]\n",
      "[nan nan nan nan nan nan]\n",
      "[nan nan nan nan nan nan]\n",
      "[nan nan nan nan nan nan]\n"
     ]
    }
   ],
   "source": [
    "for u in range(r_copy.shape[0]):\n",
    "    u0 = predict_user(r_copy, u, 2, 0.001)\n",
    "    print(u0)\n"
   ],
   "metadata": {
    "collapsed": false,
    "pycharm": {
     "name": "#%%\n"
    }
   }
  },
  {
   "cell_type": "code",
   "execution_count": 121,
   "outputs": [
    {
     "name": "stdout",
     "output_type": "stream",
     "text": [
      "nan\n",
      "nan\n",
      "nan\n",
      "nan\n",
      "nan\n",
      "nan\n",
      "nan\n",
      "nan\n",
      "nan\n",
      "nan\n",
      "nan\n",
      "nan\n",
      "nan\n",
      "nan\n",
      "nan\n",
      "nan\n",
      "nan\n",
      "nan\n",
      "nan\n",
      "nan\n",
      "nan\n",
      "nan\n",
      "nan\n",
      "nan\n",
      "nan\n",
      "nan\n",
      "nan\n",
      "nan\n",
      "nan\n",
      "nan\n",
      "nan\n",
      "nan\n",
      "nan\n",
      "nan\n",
      "nan\n",
      "nan\n",
      "nan\n",
      "nan\n",
      "nan\n",
      "nan\n",
      "nan\n",
      "nan\n",
      "nan\n",
      "nan\n",
      "nan\n",
      "nan\n",
      "nan\n",
      "nan\n",
      "nan\n",
      "nan\n",
      "nan\n",
      "nan\n",
      "nan\n",
      "nan\n",
      "nan\n",
      "nan\n",
      "nan\n",
      "nan\n",
      "nan\n",
      "nan\n",
      "nan\n",
      "nan\n",
      "nan\n",
      "nan\n",
      "nan\n",
      "nan\n",
      "nan\n",
      "nan\n",
      "nan\n",
      "nan\n",
      "nan\n",
      "nan\n",
      "nan\n",
      "nan\n",
      "nan\n",
      "nan\n",
      "nan\n",
      "nan\n",
      "nan\n",
      "nan\n",
      "nan\n",
      "nan\n",
      "nan\n",
      "nan\n",
      "nan\n",
      "nan\n",
      "nan\n",
      "nan\n",
      "nan\n",
      "nan\n",
      "nan\n",
      "nan\n",
      "nan\n",
      "nan\n",
      "nan\n",
      "nan\n",
      "nan\n",
      "nan\n",
      "nan\n",
      "nan\n"
     ]
    },
    {
     "data": {
      "text/plain": "array([nan, nan, nan, nan, nan, nan])"
     },
     "execution_count": 121,
     "metadata": {},
     "output_type": "execute_result"
    }
   ],
   "source": [
    "predict_user(r_copy, 0, 2, 0.001)\n"
   ],
   "metadata": {
    "collapsed": false,
    "pycharm": {
     "name": "#%%\n"
    }
   }
  }
 ],
 "metadata": {
  "kernelspec": {
   "display_name": "Python 3",
   "language": "python",
   "name": "python3"
  },
  "language_info": {
   "codemirror_mode": {
    "name": "ipython",
    "version": 2
   },
   "file_extension": ".py",
   "mimetype": "text/x-python",
   "name": "python",
   "nbconvert_exporter": "python",
   "pygments_lexer": "ipython2",
   "version": "2.7.6"
  }
 },
 "nbformat": 4,
 "nbformat_minor": 0
}