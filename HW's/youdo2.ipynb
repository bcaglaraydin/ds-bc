{
 "cells": [
  {
   "cell_type": "code",
   "execution_count": 2,
   "outputs": [],
   "source": [
    "import numpy as np\n",
    "import pandas as pd\n",
    "from tqdm import trange"
   ],
   "metadata": {
    "collapsed": false,
    "pycharm": {
     "name": "#%%\n"
    }
   }
  },
  {
   "cell_type": "code",
   "execution_count": 2,
   "outputs": [],
   "source": [
    "\n",
    "\n",
    "class UserBased:\n",
    "    mu: np.ndarray\n",
    "    sim: np.ndarray\n",
    "\n",
    "    def __init__(self, zero_mean: bool = True, beta: int = 1, idf: bool = False, verbosity: int = 0):\n",
    "        \"\"\"\n",
    "\n",
    "        :param zero_mean:\n",
    "        :param beta: Discounting parameter\n",
    "        :param idf: Enable inverse document frequency management\n",
    "        \"\"\"\n",
    "        self.zero_mean = zero_mean\n",
    "        self.beta = beta\n",
    "        self.idf = idf\n",
    "        self.verbosity = verbosity\n",
    "\n",
    "    def fit(self, r: np.ndarray):\n",
    "        m, n = r.shape\n",
    "        if self.zero_mean:\n",
    "            self.mu = np.nanmean(r, axis=1)\n",
    "        else:\n",
    "            self.mu = np.zeros(m)\n",
    "\n",
    "        self.sim = np.zeros((m, m))\n",
    "\n",
    "        if self.idf:\n",
    "            idf = np.log(1 + m / (~np.isnan(r)).sum(axis=0))\n",
    "        else:\n",
    "            idf = np.ones(n)\n",
    "\n",
    "        if self.verbosity > 0:\n",
    "            print(idf)\n",
    "\n",
    "        for i in trange(m):\n",
    "            for j in range(m):\n",
    "                mask = ~np.isnan(r[i, :]) & ~np.isnan(r[j, :])\n",
    "\n",
    "                si = r[i, mask] - self.mu[i]\n",
    "                sj = r[j, mask] - self.mu[j]\n",
    "\n",
    "                self.sim[i][j] = (si * sj * idf[mask]).sum() / (\n",
    "                        np.sqrt((idf[mask] * (si ** 2)).sum()) * np.sqrt((idf[mask] * (sj ** 2)).sum()))\n",
    "\n",
    "                total_intersection = mask.sum()\n",
    "\n",
    "                self.sim[i][j] *= min(total_intersection, self.beta) / self.beta\n",
    "\n",
    "        return self.sim\n",
    "\n",
    "    def predict(self, r: np.array, u: int, top_k: int = 3) -> np.ndarray:\n",
    "        \"\"\"\n",
    "\n",
    "        :param r: Rating matrix\n",
    "        :param u: User u\n",
    "        :param top_k: Top k neighbourhood\n",
    "        :return: Calculated Rating of each item\n",
    "        \"\"\"\n",
    "\n",
    "        _, n = r.shape\n",
    "\n",
    "        score = np.zeros(n)\n",
    "\n",
    "        for j in trange(n):\n",
    "            score[j] = self.predict1(r, u, j, top_k)\n",
    "\n",
    "        return score\n",
    "\n",
    "    def predict1(self, r: np.array, u: int, j: int, top_k: int = 3) -> float:\n",
    "        _, n = r.shape\n",
    "\n",
    "        users_rated_j = np.nonzero(~np.isnan(r[:, j]))[0]\n",
    "\n",
    "        topk_users = users_rated_j[self.sim[u, users_rated_j].argsort()[::-1][:top_k]]\n",
    "\n",
    "        mean_centered_topk_user_rate = r[topk_users, j] - self.mu[topk_users]\n",
    "\n",
    "        w = self.sim[u, topk_users]\n",
    "\n",
    "        return np.dot(mean_centered_topk_user_rate, w) / np.abs(w).sum() + self.mu[u]\n",
    "\n"
   ],
   "metadata": {
    "collapsed": false,
    "pycharm": {
     "name": "#%%\n"
    }
   }
  },
  {
   "cell_type": "code",
   "execution_count": 10,
   "outputs": [],
   "source": [
    "def read_data(select):\n",
    "    if select == \"small\":\n",
    "        return np.array([[7, 6, 7, 4, 5, 4],\n",
    "              [6, 7, np.nan, 4, 3, 4],\n",
    "              [np.nan, 3, 3, 1, 1, np.nan],\n",
    "              [1, 2, 3, 3, 3, 4],\n",
    "              [1, np.nan, 1, 2, 3, 3]])\n",
    "    elif select == \"large\":\n",
    "        df = pd.read_csv('https://files.grouplens.org/datasets/movielens/ml-100k/u.data', delimiter=r'\\t', engine='python',names=['user_id', 'item_id', 'rating', 'timestamp'])\n",
    "        return df.pivot(index='user_id', columns='item_id', values='rating').values\n",
    "    else:\n",
    "        print(\"selection not recognized!\")\n",
    "\n",
    "\n",
    "#%"
   ],
   "metadata": {
    "collapsed": false,
    "pycharm": {
     "name": "#%%\n"
    }
   }
  },
  {
   "cell_type": "code",
   "execution_count": 8,
   "outputs": [],
   "source": [
    "def create_test_data(r):\n",
    "    irow, jcol = np.where(~np.isnan(r))\n",
    "    idx = np.random.choice(np.arange(3), 3, replace=False)\n",
    "    test_irow = irow[idx]\n",
    "    test_jcol = jcol[idx]\n",
    "\n",
    "    r_copy = r.copy()\n",
    "    for i in test_irow:\n",
    "        for j in test_jcol:\n",
    "            r_copy[i][j] = np.nan\n",
    "    return r_copy, test_irow, test_jcol"
   ],
   "metadata": {
    "collapsed": false,
    "pycharm": {
     "name": "#%%\n"
    }
   }
  },
  {
   "cell_type": "code",
   "execution_count": 21,
   "outputs": [
    {
     "name": "stderr",
     "output_type": "stream",
     "text": [
      "  0%|                                                                                          | 0/943 [00:00<?, ?it/s]C:\\Users\\berda\\AppData\\Local\\Temp\\ipykernel_11816\\673340450.py:44: RuntimeWarning: invalid value encountered in double_scalars\n",
      "  self.sim[i][j] = (si * sj * idf[mask]).sum() / (\n",
      "100%|████████████████████████████████████████████████████████████████████████████████| 943/943 [01:13<00:00, 12.82it/s]\n",
      "100%|██████████████████████████████████████████████████████████████████████████████| 1682/1682 [05:52<00:00,  4.77it/s]\n"
     ]
    }
   ],
   "source": [
    "user = UserBased()\n",
    "sim_u = user.fit(r_copy)\n",
    "sim_i = user.fit(r_copy.T)\n"
   ],
   "metadata": {
    "collapsed": false,
    "pycharm": {
     "name": "#%%\n"
    }
   }
  },
  {
   "cell_type": "code",
   "execution_count": 41,
   "outputs": [],
   "source": [
    "def get_users_rated_item(r_not_nan, item):\n",
    "    users = []\n",
    "    for i in r_not_nan:\n",
    "        if i[1] == item:\n",
    "            users.append(i[0])\n",
    "    return users\n",
    "\n",
    "def get_items_rated_by_user(r_not_nan, user):\n",
    "    items = []\n",
    "    for i in r_not_nan:\n",
    "        if i[0] == user:\n",
    "            items.append(i[1])\n",
    "    return items\n",
    "\n",
    "def get_topk_users(users_rated_item, u, k):\n",
    "    topk = {}\n",
    "    for i in users_rated_item:\n",
    "        topk[i] = sim_u[i][u]\n",
    "    topk = dict(sorted(topk.items(), key=lambda item: item[1]))\n",
    "    topk.popitem()\n",
    "\n",
    "    return list(reversed(list(topk)))[:k]\n",
    "\n",
    "\n",
    "def get_topk_items(items_rated_by_user, u, k):\n",
    "    topk = {}\n",
    "    for i in items_rated_by_user:\n",
    "        topk[i] = sim_i[i][u]\n",
    "    topk = dict(sorted(topk.items(), key=lambda item: item[1]))\n",
    "    topk.popitem()\n",
    "\n",
    "    return list(reversed(list(topk)))[:k]"
   ],
   "metadata": {
    "collapsed": false,
    "pycharm": {
     "name": "#%%\n"
    }
   }
  },
  {
   "cell_type": "code",
   "execution_count": 97,
   "outputs": [],
   "source": [
    "\n",
    "\n",
    "\n",
    "\n",
    "\n",
    "def model1(r, k, alpha, max_iter):\n",
    "    r_not_nan = np.argwhere(~np.isnan(r))\n",
    "    m,n = r.shape\n",
    "    r_pred = np.empty(r.shape)\n",
    "    r_pred[:] = np.nan\n",
    "    mu = np.nanmean(r, axis=1)\n",
    "\n",
    "    wu = np.random.rand(m, k)\n",
    "    wj = np.random.rand(n, k)\n",
    "    for iteration in range(max_iter):\n",
    "        for u,j in r_not_nan:\n",
    "            top_k_users = get_topk_users(users_rated_item=get_users_rated_item(r_not_nan, j), u=u, k=k)\n",
    "            top_k_items = get_topk_items(items_rated_by_user=get_items_rated_by_user(r_not_nan, u), u=j, k=k)\n",
    "            r_pred[u,j] = mu[u] + np.dot(wu[u, :], (r[top_k_users, j]) - mu[top_k_users]) + np.dot(wj[j, :], r[u, top_k_items])\n",
    "            g_wu = -1 * np.dot((r[u, j] - r_pred[u,j]), (r[top_k_users, j]) - mu[top_k_users])\n",
    "            g_wj = -1 * np.dot((r[u, j] - r_pred[u, j]), (r[u, top_k_items]))\n",
    "            wu[u, :] = wu[u, :] - alpha * g_wu\n",
    "            wj[j, :] = wj[j, :] - alpha * g_wj\n",
    "    return wu, wj\n",
    "\n"
   ],
   "metadata": {
    "collapsed": false,
    "pycharm": {
     "name": "#%%\n"
    }
   }
  },
  {
   "cell_type": "code",
   "execution_count": 13,
   "outputs": [
    {
     "name": "stderr",
     "output_type": "stream",
     "text": [
      "  0%|                                                                                         | 0/1000 [03:46<?, ?it/s]\n"
     ]
    },
    {
     "ename": "KeyboardInterrupt",
     "evalue": "",
     "output_type": "error",
     "traceback": [
      "\u001B[1;31m---------------------------------------------------------------------------\u001B[0m",
      "\u001B[1;31mKeyboardInterrupt\u001B[0m                         Traceback (most recent call last)",
      "Input \u001B[1;32mIn [13]\u001B[0m, in \u001B[0;36m<module>\u001B[1;34m\u001B[0m\n\u001B[0;32m     46\u001B[0m r \u001B[38;5;241m=\u001B[39m read_data(\u001B[38;5;124m\"\u001B[39m\u001B[38;5;124mlarge\u001B[39m\u001B[38;5;124m\"\u001B[39m)\n\u001B[0;32m     47\u001B[0m r_copy, test_irow, test_jcol \u001B[38;5;241m=\u001B[39m create_test_data(r)\n\u001B[1;32m---> 48\u001B[0m bu, bi \u001B[38;5;241m=\u001B[39m \u001B[43mmodel2\u001B[49m\u001B[43m(\u001B[49m\u001B[43mr_copy\u001B[49m\u001B[43m,\u001B[49m\u001B[43m \u001B[49m\u001B[43malpha\u001B[49m\u001B[38;5;241;43m=\u001B[39;49m\u001B[38;5;241;43m0.001\u001B[39;49m\u001B[43m,\u001B[49m\u001B[43m \u001B[49m\u001B[43mmax_iter\u001B[49m\u001B[38;5;241;43m=\u001B[39;49m\u001B[38;5;241;43m1000\u001B[39;49m\u001B[43m)\u001B[49m\n\u001B[0;32m     49\u001B[0m test2(bu, bi, r, test_irow, test_jcol)\n",
      "Input \u001B[1;32mIn [13]\u001B[0m, in \u001B[0;36mmodel2\u001B[1;34m(r, alpha, max_iter)\u001B[0m\n\u001B[0;32m     17\u001B[0m     r_pred[u, j] \u001B[38;5;241m=\u001B[39m bu[u] \u001B[38;5;241m+\u001B[39m bi[j]\n\u001B[0;32m     18\u001B[0m \u001B[38;5;28;01mif\u001B[39;00m iteration\u001B[38;5;241m%\u001B[39m(max_iter\u001B[38;5;241m/\u001B[39m\u001B[38;5;241m10\u001B[39m) \u001B[38;5;241m==\u001B[39m \u001B[38;5;241m0\u001B[39m:\n\u001B[1;32m---> 19\u001B[0m     \u001B[38;5;28mprint\u001B[39m(\u001B[43mloss\u001B[49m\u001B[43m(\u001B[49m\u001B[43mr\u001B[49m\u001B[43m,\u001B[49m\u001B[43m \u001B[49m\u001B[43mr_pred\u001B[49m\u001B[43m,\u001B[49m\u001B[43m \u001B[49m\u001B[43mr_not_nan\u001B[49m\u001B[43m)\u001B[49m)\n\u001B[0;32m     21\u001B[0m g_bu \u001B[38;5;241m=\u001B[39m np\u001B[38;5;241m.\u001B[39mzeros(m)\n\u001B[0;32m     22\u001B[0m g_bi \u001B[38;5;241m=\u001B[39m np\u001B[38;5;241m.\u001B[39mzeros(n)\n",
      "Input \u001B[1;32mIn [13]\u001B[0m, in \u001B[0;36mloss\u001B[1;34m(r, r_pred, r_not_nan)\u001B[0m\n\u001B[0;32m      3\u001B[0m \u001B[38;5;28;01mfor\u001B[39;00m i,j \u001B[38;5;129;01min\u001B[39;00m r_not_nan:\n\u001B[0;32m      4\u001B[0m     loss\u001B[38;5;241m.\u001B[39mappend(np\u001B[38;5;241m.\u001B[39mpower((r[i, j] \u001B[38;5;241m-\u001B[39m r_pred[i, j]), \u001B[38;5;241m2\u001B[39m))\n\u001B[1;32m----> 5\u001B[0m     s \u001B[38;5;241m=\u001B[39m \u001B[38;5;28msum\u001B[39m(loss)\n\u001B[0;32m      6\u001B[0m \u001B[38;5;28;01mreturn\u001B[39;00m s\u001B[38;5;241m/\u001B[39m\u001B[38;5;241m2\u001B[39m\n",
      "\u001B[1;31mKeyboardInterrupt\u001B[0m: "
     ]
    }
   ],
   "source": [
    "def loss(r, r_pred, r_not_nan):\n",
    "    loss = []\n",
    "    for i,j in r_not_nan:\n",
    "        loss.append(np.power((r[i, j] - r_pred[i, j]), 2))\n",
    "        s = sum(loss)\n",
    "    return s/2\n",
    "\n",
    "def model2(r, alpha, max_iter):\n",
    "    r_not_nan = np.argwhere(~np.isnan(r))\n",
    "    m,n = r.shape\n",
    "    r_pred = np.empty(r.shape)\n",
    "    r_pred[:] = np.nan\n",
    "    bu = np.random.rand(m)\n",
    "    bi = np.random.rand(n)\n",
    "    for iteration in trange(max_iter):\n",
    "        for u, j in r_not_nan:\n",
    "            r_pred[u, j] = bu[u] + bi[j]\n",
    "        if iteration%(max_iter/10) == 0:\n",
    "            print(loss(r, r_pred, r_not_nan))\n",
    "\n",
    "        g_bu = np.zeros(m)\n",
    "        g_bi = np.zeros(n)\n",
    "        for u, j in r_not_nan:\n",
    "            g = bu[u] + bi[j] - r[u, j]\n",
    "            g_bu[u] += g\n",
    "            g_bi[j] += g\n",
    "        bu_prev = np.copy(bu)\n",
    "        bi_prev = np.copy(bi)\n",
    "        bu = bu - g_bu * alpha\n",
    "        bi = bi - g_bi * alpha\n",
    "\n",
    "        if np.linalg.norm(bu - bu_prev) < 0.0001 and np.linalg.norm(bi - bi_prev):\n",
    "            print(iteration, \"iterations\")\n",
    "            return bu, bi\n",
    "\n",
    "\n",
    "    return bu, bi\n",
    "\n",
    "def test2(bu, bi, r_true,test_irow, test_jcol):\n",
    "    err = []\n",
    "    for i in test_irow:\n",
    "        for j in test_jcol:\n",
    "            err.append(((bu[i] + bi[j]) - r_true[i , j])**2)\n",
    "    print(f\"RMSE: {np.sqrt(np.nanmean(np.array(err)))}\")\n",
    "\n",
    "r = read_data(\"large\")\n",
    "r_copy, test_irow, test_jcol = create_test_data(r)\n",
    "bu, bi = model2(r_copy, alpha=0.001, max_iter=1000)\n",
    "test2(bu, bi, r, test_irow, test_jcol)"
   ],
   "metadata": {
    "collapsed": false,
    "pycharm": {
     "name": "#%%\n"
    }
   }
  },
  {
   "cell_type": "code",
   "execution_count": 26,
   "outputs": [
    {
     "name": "stdout",
     "output_type": "stream",
     "text": [
      "RMSE: nan\n"
     ]
    },
    {
     "name": "stderr",
     "output_type": "stream",
     "text": [
      "C:\\Users\\berda\\AppData\\Local\\Temp\\ipykernel_11816\\2230093236.py:15: RuntimeWarning: Mean of empty slice\n",
      "  print(f\"RMSE: {np.sqrt(np.nanmean(np.array(err)))}\")\n"
     ]
    }
   ],
   "source": [
    "wu, wj = model1(r_copy,k=2, alpha=0.001, max_iter=1)\n",
    "mu = np.nanmean(r, axis=1)\n",
    "r_pred = np.empty(r.shape)\n",
    "r_pred[:] = np.nan\n",
    "err = []\n",
    "k=2\n",
    "for u, j in zip(test_irow, test_jcol):\n",
    "    top_k_users = get_topk_users(users_rated_item=get_users_rated_item(r_not_nan, j), u=u, k=k)\n",
    "    top_k_items = get_topk_items(items_rated_by_user=get_items_rated_by_user(r_not_nan, u), u=j, k=k)\n",
    "    r_pred[u,j] = mu[u] + np.dot(wu[u, :], (r[top_k_users, j]) - mu[top_k_users]) + np.dot(wj[j, :], r[u, top_k_items])\n",
    "    y = r[u, j]\n",
    "\n",
    "    err.append((r_pred - y) ** 2)\n",
    "\n",
    "print(f\"RMSE: {np.sqrt(np.nanmean(np.array(err)))}\")\n",
    "\n",
    "\n",
    "\n",
    "\n",
    "\n",
    "\n",
    "\n"
   ],
   "metadata": {
    "collapsed": false,
    "pycharm": {
     "name": "#%%\n"
    }
   }
  }
 ],
 "metadata": {
  "kernelspec": {
   "display_name": "Python 3",
   "language": "python",
   "name": "python3"
  },
  "language_info": {
   "codemirror_mode": {
    "name": "ipython",
    "version": 2
   },
   "file_extension": ".py",
   "mimetype": "text/x-python",
   "name": "python",
   "nbconvert_exporter": "python",
   "pygments_lexer": "ipython2",
   "version": "2.7.6"
  }
 },
 "nbformat": 4,
 "nbformat_minor": 0
}